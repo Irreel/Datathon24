{
 "cells": [
  {
   "cell_type": "code",
   "execution_count": 1,
   "metadata": {},
   "outputs": [
    {
     "name": "stdout",
     "output_type": "stream",
     "text": [
      "   Order ID Order Status Order Date Order Day of Week Order Month  Order Year  \\\n",
      "0       104    Completed   6/6/2013          Thursday        June      2013.0   \n",
      "1       104    Completed   6/6/2013          Thursday        June      2013.0   \n",
      "2       107    Completed   6/6/2013          Thursday        June      2013.0   \n",
      "3       107    Completed   6/6/2013          Thursday        June      2013.0   \n",
      "4       107    Completed   6/6/2013          Thursday        June      2013.0   \n",
      "\n",
      "  Customer ID     Company ID  Product ID Product Variant ID  ...  \\\n",
      "0   Cust_3161  Company_87239   Prod_5030     Prod_Var_50300  ...   \n",
      "1   Cust_3161  Company_87239  Prod_70018     Prod_Var_70018  ...   \n",
      "2   Cust_2040  Company_83024   Prod_1000     Prod_Var_10003  ...   \n",
      "3   Cust_2040  Company_83024   Prod_1000     Prod_Var_10004  ...   \n",
      "4   Cust_2040  Company_83024   Prod_1000     Prod_Var_10005  ...   \n",
      "\n",
      "   Product Quantity  Total Selling Price  Payment Status Shipment ID  \\\n",
      "0                50               215.00        Received         271   \n",
      "1                50                75.00        Received         271   \n",
      "2                 1                 3.95        Received         438   \n",
      "3                 1                 3.95        Received         438   \n",
      "4                 2                 7.90        Received         438   \n",
      "\n",
      "   Shipment Number  Shipping Address Type Shipping City        Shipping State  \\\n",
      "0              271               Business    Washington  District Of Columbia   \n",
      "1              271               Business    Washington  District Of Columbia   \n",
      "2              438               Business     Lone Tree              Colorado   \n",
      "3              438               Business     Lone Tree              Colorado   \n",
      "4              438               Business     Lone Tree              Colorado   \n",
      "\n",
      "  Shipping Postal Code Shipping Country  \n",
      "0           20011-2343    United States  \n",
      "1           20011-2343    United States  \n",
      "2                80124    United States  \n",
      "3                80124    United States  \n",
      "4                80124    United States  \n",
      "\n",
      "[5 rows x 21 columns]\n"
     ]
    }
   ],
   "source": [
    "import pandas as pd\n",
    "import numpy as np\n",
    "\n",
    "# Read the CSV file\n",
    "df = pd.read_csv('./UrbanEdgeApparel.csv')\n",
    "\n",
    "# Perform exploratory analysis\n",
    "# For example, you can print the first few rows of the DataFrame\n",
    "print(df.head())"
   ]
  },
  {
   "cell_type": "code",
   "execution_count": 2,
   "metadata": {},
   "outputs": [
    {
     "data": {
      "text/plain": [
       "count    89644.000000\n",
       "mean         6.723333\n",
       "std          5.628675\n",
       "min          0.000000\n",
       "25%          3.300000\n",
       "50%          4.750000\n",
       "75%          8.500000\n",
       "max        150.000000\n",
       "Name: Product Unit Selling Price, dtype: float64"
      ]
     },
     "execution_count": 2,
     "metadata": {},
     "output_type": "execute_result"
    }
   ],
   "source": [
    "df['Product Unit Selling Price'].describe()"
   ]
  },
  {
   "cell_type": "code",
   "execution_count": 3,
   "metadata": {},
   "outputs": [
    {
     "data": {
      "text/plain": [
       "Completed    87163\n",
       "Canceled      1240\n",
       "Process       1113\n",
       "Failed         128\n",
       "Name: Order Status, dtype: int64"
      ]
     },
     "execution_count": 3,
     "metadata": {},
     "output_type": "execute_result"
    }
   ],
   "source": [
    "df['Order Status'].value_counts()"
   ]
  },
  {
   "cell_type": "code",
   "execution_count": 4,
   "metadata": {},
   "outputs": [
    {
     "data": {
      "text/plain": [
       "Received    82858\n",
       "Pending      5601\n",
       "Canceled     1046\n",
       "Declined      139\n",
       "Name: Payment Status, dtype: int64"
      ]
     },
     "execution_count": 4,
     "metadata": {},
     "output_type": "execute_result"
    }
   ],
   "source": [
    "df['Payment Status'].value_counts()"
   ]
  },
  {
   "cell_type": "code",
   "execution_count": 5,
   "metadata": {},
   "outputs": [
    {
     "data": {
      "text/plain": [
       "Pending     1079\n",
       "Received      34\n",
       "Name: Payment Status, dtype: int64"
      ]
     },
     "execution_count": 5,
     "metadata": {},
     "output_type": "execute_result"
    }
   ],
   "source": [
    "df[ df['Order Status'] == 'Process' ]['Payment Status'].value_counts()"
   ]
  },
  {
   "cell_type": "markdown",
   "metadata": {},
   "source": [
    "For our analysis, only successfully paid orders with valid order date are considered."
   ]
  },
  {
   "cell_type": "code",
   "execution_count": 6,
   "metadata": {},
   "outputs": [
    {
     "data": {
      "text/html": [
       "<div>\n",
       "<style scoped>\n",
       "    .dataframe tbody tr th:only-of-type {\n",
       "        vertical-align: middle;\n",
       "    }\n",
       "\n",
       "    .dataframe tbody tr th {\n",
       "        vertical-align: top;\n",
       "    }\n",
       "\n",
       "    .dataframe thead th {\n",
       "        text-align: right;\n",
       "    }\n",
       "</style>\n",
       "<table border=\"1\" class=\"dataframe\">\n",
       "  <thead>\n",
       "    <tr style=\"text-align: right;\">\n",
       "      <th></th>\n",
       "      <th>Order ID</th>\n",
       "      <th>Order Status</th>\n",
       "      <th>Order Date</th>\n",
       "      <th>Order Day of Week</th>\n",
       "      <th>Order Month</th>\n",
       "      <th>Order Year</th>\n",
       "      <th>Customer ID</th>\n",
       "      <th>Company ID</th>\n",
       "      <th>Product ID</th>\n",
       "      <th>Product Variant ID</th>\n",
       "      <th>...</th>\n",
       "      <th>Product Quantity</th>\n",
       "      <th>Total Selling Price</th>\n",
       "      <th>Payment Status</th>\n",
       "      <th>Shipment ID</th>\n",
       "      <th>Shipment Number</th>\n",
       "      <th>Shipping Address Type</th>\n",
       "      <th>Shipping City</th>\n",
       "      <th>Shipping State</th>\n",
       "      <th>Shipping Postal Code</th>\n",
       "      <th>Shipping Country</th>\n",
       "    </tr>\n",
       "  </thead>\n",
       "  <tbody>\n",
       "    <tr>\n",
       "      <th>0</th>\n",
       "      <td>104</td>\n",
       "      <td>Completed</td>\n",
       "      <td>6/6/2013</td>\n",
       "      <td>Thursday</td>\n",
       "      <td>June</td>\n",
       "      <td>2013.0</td>\n",
       "      <td>Cust_3161</td>\n",
       "      <td>Company_87239</td>\n",
       "      <td>Prod_5030</td>\n",
       "      <td>Prod_Var_50300</td>\n",
       "      <td>...</td>\n",
       "      <td>50</td>\n",
       "      <td>215.00</td>\n",
       "      <td>Received</td>\n",
       "      <td>271</td>\n",
       "      <td>271</td>\n",
       "      <td>Business</td>\n",
       "      <td>Washington</td>\n",
       "      <td>District Of Columbia</td>\n",
       "      <td>20011-2343</td>\n",
       "      <td>United States</td>\n",
       "    </tr>\n",
       "    <tr>\n",
       "      <th>1</th>\n",
       "      <td>104</td>\n",
       "      <td>Completed</td>\n",
       "      <td>6/6/2013</td>\n",
       "      <td>Thursday</td>\n",
       "      <td>June</td>\n",
       "      <td>2013.0</td>\n",
       "      <td>Cust_3161</td>\n",
       "      <td>Company_87239</td>\n",
       "      <td>Prod_70018</td>\n",
       "      <td>Prod_Var_70018</td>\n",
       "      <td>...</td>\n",
       "      <td>50</td>\n",
       "      <td>75.00</td>\n",
       "      <td>Received</td>\n",
       "      <td>271</td>\n",
       "      <td>271</td>\n",
       "      <td>Business</td>\n",
       "      <td>Washington</td>\n",
       "      <td>District Of Columbia</td>\n",
       "      <td>20011-2343</td>\n",
       "      <td>United States</td>\n",
       "    </tr>\n",
       "    <tr>\n",
       "      <th>2</th>\n",
       "      <td>107</td>\n",
       "      <td>Completed</td>\n",
       "      <td>6/6/2013</td>\n",
       "      <td>Thursday</td>\n",
       "      <td>June</td>\n",
       "      <td>2013.0</td>\n",
       "      <td>Cust_2040</td>\n",
       "      <td>Company_83024</td>\n",
       "      <td>Prod_1000</td>\n",
       "      <td>Prod_Var_10003</td>\n",
       "      <td>...</td>\n",
       "      <td>1</td>\n",
       "      <td>3.95</td>\n",
       "      <td>Received</td>\n",
       "      <td>438</td>\n",
       "      <td>438</td>\n",
       "      <td>Business</td>\n",
       "      <td>Lone Tree</td>\n",
       "      <td>Colorado</td>\n",
       "      <td>80124</td>\n",
       "      <td>United States</td>\n",
       "    </tr>\n",
       "    <tr>\n",
       "      <th>3</th>\n",
       "      <td>107</td>\n",
       "      <td>Completed</td>\n",
       "      <td>6/6/2013</td>\n",
       "      <td>Thursday</td>\n",
       "      <td>June</td>\n",
       "      <td>2013.0</td>\n",
       "      <td>Cust_2040</td>\n",
       "      <td>Company_83024</td>\n",
       "      <td>Prod_1000</td>\n",
       "      <td>Prod_Var_10004</td>\n",
       "      <td>...</td>\n",
       "      <td>1</td>\n",
       "      <td>3.95</td>\n",
       "      <td>Received</td>\n",
       "      <td>438</td>\n",
       "      <td>438</td>\n",
       "      <td>Business</td>\n",
       "      <td>Lone Tree</td>\n",
       "      <td>Colorado</td>\n",
       "      <td>80124</td>\n",
       "      <td>United States</td>\n",
       "    </tr>\n",
       "    <tr>\n",
       "      <th>4</th>\n",
       "      <td>107</td>\n",
       "      <td>Completed</td>\n",
       "      <td>6/6/2013</td>\n",
       "      <td>Thursday</td>\n",
       "      <td>June</td>\n",
       "      <td>2013.0</td>\n",
       "      <td>Cust_2040</td>\n",
       "      <td>Company_83024</td>\n",
       "      <td>Prod_1000</td>\n",
       "      <td>Prod_Var_10005</td>\n",
       "      <td>...</td>\n",
       "      <td>2</td>\n",
       "      <td>7.90</td>\n",
       "      <td>Received</td>\n",
       "      <td>438</td>\n",
       "      <td>438</td>\n",
       "      <td>Business</td>\n",
       "      <td>Lone Tree</td>\n",
       "      <td>Colorado</td>\n",
       "      <td>80124</td>\n",
       "      <td>United States</td>\n",
       "    </tr>\n",
       "    <tr>\n",
       "      <th>...</th>\n",
       "      <td>...</td>\n",
       "      <td>...</td>\n",
       "      <td>...</td>\n",
       "      <td>...</td>\n",
       "      <td>...</td>\n",
       "      <td>...</td>\n",
       "      <td>...</td>\n",
       "      <td>...</td>\n",
       "      <td>...</td>\n",
       "      <td>...</td>\n",
       "      <td>...</td>\n",
       "      <td>...</td>\n",
       "      <td>...</td>\n",
       "      <td>...</td>\n",
       "      <td>...</td>\n",
       "      <td>...</td>\n",
       "      <td>...</td>\n",
       "      <td>...</td>\n",
       "      <td>...</td>\n",
       "      <td>...</td>\n",
       "      <td>...</td>\n",
       "    </tr>\n",
       "    <tr>\n",
       "      <th>89639</th>\n",
       "      <td>9257</td>\n",
       "      <td>Completed</td>\n",
       "      <td>12/31/2021</td>\n",
       "      <td>Friday</td>\n",
       "      <td>December</td>\n",
       "      <td>2021.0</td>\n",
       "      <td>Cust_2011</td>\n",
       "      <td>Company_42529</td>\n",
       "      <td>Prod_5100</td>\n",
       "      <td>Prod_Var_51002</td>\n",
       "      <td>...</td>\n",
       "      <td>15</td>\n",
       "      <td>45.00</td>\n",
       "      <td>Received</td>\n",
       "      <td>12908</td>\n",
       "      <td>12908</td>\n",
       "      <td>Residential</td>\n",
       "      <td>Raleigh</td>\n",
       "      <td>North Carolina</td>\n",
       "      <td>27609</td>\n",
       "      <td>United States</td>\n",
       "    </tr>\n",
       "    <tr>\n",
       "      <th>89640</th>\n",
       "      <td>9257</td>\n",
       "      <td>Completed</td>\n",
       "      <td>12/31/2021</td>\n",
       "      <td>Friday</td>\n",
       "      <td>December</td>\n",
       "      <td>2021.0</td>\n",
       "      <td>Cust_2011</td>\n",
       "      <td>Company_42529</td>\n",
       "      <td>Prod_5060</td>\n",
       "      <td>Prod_Var_50606</td>\n",
       "      <td>...</td>\n",
       "      <td>4</td>\n",
       "      <td>34.00</td>\n",
       "      <td>Received</td>\n",
       "      <td>12908</td>\n",
       "      <td>12908</td>\n",
       "      <td>Residential</td>\n",
       "      <td>Raleigh</td>\n",
       "      <td>North Carolina</td>\n",
       "      <td>27609</td>\n",
       "      <td>United States</td>\n",
       "    </tr>\n",
       "    <tr>\n",
       "      <th>89641</th>\n",
       "      <td>9257</td>\n",
       "      <td>Completed</td>\n",
       "      <td>12/31/2021</td>\n",
       "      <td>Friday</td>\n",
       "      <td>December</td>\n",
       "      <td>2021.0</td>\n",
       "      <td>Cust_2011</td>\n",
       "      <td>Company_42529</td>\n",
       "      <td>Prod_5060</td>\n",
       "      <td>Prod_Var_50609</td>\n",
       "      <td>...</td>\n",
       "      <td>2</td>\n",
       "      <td>17.00</td>\n",
       "      <td>Received</td>\n",
       "      <td>12908</td>\n",
       "      <td>12908</td>\n",
       "      <td>Residential</td>\n",
       "      <td>Raleigh</td>\n",
       "      <td>North Carolina</td>\n",
       "      <td>27609</td>\n",
       "      <td>United States</td>\n",
       "    </tr>\n",
       "    <tr>\n",
       "      <th>89642</th>\n",
       "      <td>9257</td>\n",
       "      <td>Completed</td>\n",
       "      <td>12/31/2021</td>\n",
       "      <td>Friday</td>\n",
       "      <td>December</td>\n",
       "      <td>2021.0</td>\n",
       "      <td>Cust_2011</td>\n",
       "      <td>Company_42529</td>\n",
       "      <td>Prod_5060</td>\n",
       "      <td>Prod_Var_50607</td>\n",
       "      <td>...</td>\n",
       "      <td>6</td>\n",
       "      <td>66.00</td>\n",
       "      <td>Received</td>\n",
       "      <td>12908</td>\n",
       "      <td>12908</td>\n",
       "      <td>Residential</td>\n",
       "      <td>Raleigh</td>\n",
       "      <td>North Carolina</td>\n",
       "      <td>27609</td>\n",
       "      <td>United States</td>\n",
       "    </tr>\n",
       "    <tr>\n",
       "      <th>89643</th>\n",
       "      <td>9257</td>\n",
       "      <td>Completed</td>\n",
       "      <td>12/31/2021</td>\n",
       "      <td>Friday</td>\n",
       "      <td>December</td>\n",
       "      <td>2021.0</td>\n",
       "      <td>Cust_2011</td>\n",
       "      <td>Company_42529</td>\n",
       "      <td>Prod_5060</td>\n",
       "      <td>Prod_Var_50608</td>\n",
       "      <td>...</td>\n",
       "      <td>4</td>\n",
       "      <td>47.00</td>\n",
       "      <td>Received</td>\n",
       "      <td>12908</td>\n",
       "      <td>12908</td>\n",
       "      <td>Residential</td>\n",
       "      <td>Raleigh</td>\n",
       "      <td>North Carolina</td>\n",
       "      <td>27609</td>\n",
       "      <td>United States</td>\n",
       "    </tr>\n",
       "  </tbody>\n",
       "</table>\n",
       "<p>82737 rows × 21 columns</p>\n",
       "</div>"
      ],
      "text/plain": [
       "       Order ID Order Status  Order Date Order Day of Week Order Month  \\\n",
       "0           104    Completed    6/6/2013          Thursday        June   \n",
       "1           104    Completed    6/6/2013          Thursday        June   \n",
       "2           107    Completed    6/6/2013          Thursday        June   \n",
       "3           107    Completed    6/6/2013          Thursday        June   \n",
       "4           107    Completed    6/6/2013          Thursday        June   \n",
       "...         ...          ...         ...               ...         ...   \n",
       "89639      9257    Completed  12/31/2021            Friday    December   \n",
       "89640      9257    Completed  12/31/2021            Friday    December   \n",
       "89641      9257    Completed  12/31/2021            Friday    December   \n",
       "89642      9257    Completed  12/31/2021            Friday    December   \n",
       "89643      9257    Completed  12/31/2021            Friday    December   \n",
       "\n",
       "       Order Year Customer ID     Company ID  Product ID Product Variant ID  \\\n",
       "0          2013.0   Cust_3161  Company_87239   Prod_5030     Prod_Var_50300   \n",
       "1          2013.0   Cust_3161  Company_87239  Prod_70018     Prod_Var_70018   \n",
       "2          2013.0   Cust_2040  Company_83024   Prod_1000     Prod_Var_10003   \n",
       "3          2013.0   Cust_2040  Company_83024   Prod_1000     Prod_Var_10004   \n",
       "4          2013.0   Cust_2040  Company_83024   Prod_1000     Prod_Var_10005   \n",
       "...           ...         ...            ...         ...                ...   \n",
       "89639      2021.0   Cust_2011  Company_42529   Prod_5100     Prod_Var_51002   \n",
       "89640      2021.0   Cust_2011  Company_42529   Prod_5060     Prod_Var_50606   \n",
       "89641      2021.0   Cust_2011  Company_42529   Prod_5060     Prod_Var_50609   \n",
       "89642      2021.0   Cust_2011  Company_42529   Prod_5060     Prod_Var_50607   \n",
       "89643      2021.0   Cust_2011  Company_42529   Prod_5060     Prod_Var_50608   \n",
       "\n",
       "       ...  Product Quantity  Total Selling Price  Payment Status Shipment ID  \\\n",
       "0      ...                50               215.00        Received         271   \n",
       "1      ...                50                75.00        Received         271   \n",
       "2      ...                 1                 3.95        Received         438   \n",
       "3      ...                 1                 3.95        Received         438   \n",
       "4      ...                 2                 7.90        Received         438   \n",
       "...    ...               ...                  ...             ...         ...   \n",
       "89639  ...                15                45.00        Received       12908   \n",
       "89640  ...                 4                34.00        Received       12908   \n",
       "89641  ...                 2                17.00        Received       12908   \n",
       "89642  ...                 6                66.00        Received       12908   \n",
       "89643  ...                 4                47.00        Received       12908   \n",
       "\n",
       "       Shipment Number  Shipping Address Type Shipping City  \\\n",
       "0                  271               Business    Washington   \n",
       "1                  271               Business    Washington   \n",
       "2                  438               Business     Lone Tree   \n",
       "3                  438               Business     Lone Tree   \n",
       "4                  438               Business     Lone Tree   \n",
       "...                ...                    ...           ...   \n",
       "89639            12908            Residential       Raleigh   \n",
       "89640            12908            Residential       Raleigh   \n",
       "89641            12908            Residential       Raleigh   \n",
       "89642            12908            Residential       Raleigh   \n",
       "89643            12908            Residential       Raleigh   \n",
       "\n",
       "             Shipping State Shipping Postal Code Shipping Country  \n",
       "0      District Of Columbia           20011-2343    United States  \n",
       "1      District Of Columbia           20011-2343    United States  \n",
       "2                  Colorado                80124    United States  \n",
       "3                  Colorado                80124    United States  \n",
       "4                  Colorado                80124    United States  \n",
       "...                     ...                  ...              ...  \n",
       "89639        North Carolina                27609    United States  \n",
       "89640        North Carolina                27609    United States  \n",
       "89641        North Carolina                27609    United States  \n",
       "89642        North Carolina                27609    United States  \n",
       "89643        North Carolina                27609    United States  \n",
       "\n",
       "[82737 rows x 21 columns]"
      ]
     },
     "execution_count": 6,
     "metadata": {},
     "output_type": "execute_result"
    }
   ],
   "source": [
    "df_valid = df[ (df['Order Status'] == 'Completed') & (df['Payment Status'] == 'Received') ]\n",
    "df_valid\n"
   ]
  },
  {
   "cell_type": "markdown",
   "metadata": {},
   "source": [
    "# Data Cleaning"
   ]
  },
  {
   "cell_type": "code",
   "execution_count": 7,
   "metadata": {},
   "outputs": [
    {
     "name": "stdout",
     "output_type": "stream",
     "text": [
      "       Order ID Order Status  Order Date Order Day of Week Order Month  \\\n",
      "16          109    Completed    9/2/2013            Monday   September   \n",
      "214          13    Completed   4/24/2013         Wednesday       April   \n",
      "280         445    Completed   1/23/2014          Thursday     January   \n",
      "281         445    Completed   1/23/2014          Thursday     January   \n",
      "282         445    Completed   1/23/2014          Thursday     January   \n",
      "...         ...          ...         ...               ...         ...   \n",
      "89604      9252    Completed  12/30/2021          Thursday    December   \n",
      "89605      9255    Completed  12/31/2021            Friday    December   \n",
      "89606      9255    Completed  12/31/2021            Friday    December   \n",
      "89611      9256    Completed  12/31/2021            Friday    December   \n",
      "89635      9256    Completed  12/31/2021            Friday    December   \n",
      "\n",
      "       Order Year Customer ID     Company ID  Product ID Product Variant ID  \\\n",
      "16         2013.0   Cust_2941  Company_52390   Prod_1009                NaN   \n",
      "214        2013.0   Cust_2857  Company_94788  Prod_88112                NaN   \n",
      "280        2014.0   Cust_2926  Company_93024  Prod_32812                NaN   \n",
      "281        2014.0   Cust_2926  Company_93024  Prod_32812                NaN   \n",
      "282        2014.0   Cust_2926  Company_93024  Prod_32812                NaN   \n",
      "...           ...         ...            ...         ...                ...   \n",
      "89604      2021.0   Cust_3067  Company_23721   Prod_1140                NaN   \n",
      "89605      2021.0   Cust_2756            NaN   Prod_1140     Prod_Var_11450   \n",
      "89606      2021.0   Cust_2756            NaN   Prod_1140     Prod_Var_11400   \n",
      "89611      2021.0   Cust_1744  Company_31007   Prod_7900                NaN   \n",
      "89635      2021.0   Cust_1744  Company_31007   Prod_1140                NaN   \n",
      "\n",
      "       ...  Product Quantity  Total Selling Price  Payment Status Shipment ID  \\\n",
      "16     ...                30                90.00        Received         449   \n",
      "214    ...                 1                18.00        Received         272   \n",
      "280    ...                 3                21.00        Received        1127   \n",
      "281    ...                 3                21.00        Received        1127   \n",
      "282    ...                 3                21.00        Received        1127   \n",
      "...    ...               ...                  ...             ...         ...   \n",
      "89604  ...                 5                36.15        Received       12913   \n",
      "89605  ...                 2                34.00        Received       12915   \n",
      "89606  ...                 1                 9.00        Received       12915   \n",
      "89611  ...                 4                14.00        Received       12906   \n",
      "89635  ...                12                43.20        Received       12906   \n",
      "\n",
      "       Shipment Number  Shipping Address Type     Shipping City  \\\n",
      "16                 449               Business     Overland Park   \n",
      "214                272            Residential        Pittsfield   \n",
      "280               1127            Residential           Kenmore   \n",
      "281               1127            Residential           Kenmore   \n",
      "282               1127            Residential           Kenmore   \n",
      "...                ...                    ...               ...   \n",
      "89604            12913               Business         Charlotte   \n",
      "89605            12915            Residential        Summerdale   \n",
      "89606            12915            Residential        Summerdale   \n",
      "89611            12906               Business  West Valley City   \n",
      "89635            12906               Business  West Valley City   \n",
      "\n",
      "       Shipping State Shipping Postal Code Shipping Country  \n",
      "16             Kansas                66209    United States  \n",
      "214     Massachusetts                01201    United States  \n",
      "280          New York                14217    United States  \n",
      "281          New York                14217    United States  \n",
      "282          New York                14217    United States  \n",
      "...               ...                  ...              ...  \n",
      "89604  North Carolina           28214-8082    United States  \n",
      "89605         Alabama                36580    United States  \n",
      "89606         Alabama                36580    United States  \n",
      "89611            Utah                84119    United States  \n",
      "89635            Utah                84119    United States  \n",
      "\n",
      "[5912 rows x 21 columns]\n"
     ]
    }
   ],
   "source": [
    "null_data = df_valid[df_valid.isnull().any(axis=1)]\n",
    "print(null_data)"
   ]
  },
  {
   "cell_type": "markdown",
   "metadata": {},
   "source": [
    "There are null value in the dataset."
   ]
  },
  {
   "cell_type": "code",
   "execution_count": 8,
   "metadata": {},
   "outputs": [
    {
     "name": "stdout",
     "output_type": "stream",
     "text": [
      "Index(['Order Date', 'Order Day of Week', 'Order Month', 'Order Year',\n",
      "       'Company ID', 'Product Variant ID', 'Shipping City', 'Shipping State',\n",
      "       'Shipping Postal Code', 'Shipping Country'],\n",
      "      dtype='object')\n"
     ]
    }
   ],
   "source": [
    "null_columns = df_valid.columns[df.isnull().any()]\n",
    "print(null_columns)"
   ]
  },
  {
   "cell_type": "markdown",
   "metadata": {},
   "source": [
    "We found even though there is NaN value in column 'Product Variant ID', it is still legit for our analysis."
   ]
  },
  {
   "cell_type": "markdown",
   "metadata": {},
   "source": [
    "Thus, we only filtered out those with missing order date"
   ]
  },
  {
   "cell_type": "code",
   "execution_count": 10,
   "metadata": {},
   "outputs": [],
   "source": [
    "# null_data = df_valid[df_valid['Shipping Postal Code'].isnull()]"
   ]
  },
  {
   "cell_type": "code",
   "execution_count": 284,
   "metadata": {},
   "outputs": [],
   "source": [
    "# null_data"
   ]
  },
  {
   "cell_type": "code",
   "execution_count": 9,
   "metadata": {},
   "outputs": [
    {
     "name": "stdout",
     "output_type": "stream",
     "text": [
      "       Order ID Order Status  Order Date Order Day of Week Order Month  \\\n",
      "0           104    Completed    6/6/2013          Thursday        June   \n",
      "1           104    Completed    6/6/2013          Thursday        June   \n",
      "2           107    Completed    6/6/2013          Thursday        June   \n",
      "3           107    Completed    6/6/2013          Thursday        June   \n",
      "4           107    Completed    6/6/2013          Thursday        June   \n",
      "...         ...          ...         ...               ...         ...   \n",
      "89639      9257    Completed  12/31/2021            Friday    December   \n",
      "89640      9257    Completed  12/31/2021            Friday    December   \n",
      "89641      9257    Completed  12/31/2021            Friday    December   \n",
      "89642      9257    Completed  12/31/2021            Friday    December   \n",
      "89643      9257    Completed  12/31/2021            Friday    December   \n",
      "\n",
      "       Order Year Customer ID     Company ID  Product ID Product Variant ID  \\\n",
      "0          2013.0   Cust_3161  Company_87239   Prod_5030     Prod_Var_50300   \n",
      "1          2013.0   Cust_3161  Company_87239  Prod_70018     Prod_Var_70018   \n",
      "2          2013.0   Cust_2040  Company_83024   Prod_1000     Prod_Var_10003   \n",
      "3          2013.0   Cust_2040  Company_83024   Prod_1000     Prod_Var_10004   \n",
      "4          2013.0   Cust_2040  Company_83024   Prod_1000     Prod_Var_10005   \n",
      "...           ...         ...            ...         ...                ...   \n",
      "89639      2021.0   Cust_2011  Company_42529   Prod_5100     Prod_Var_51002   \n",
      "89640      2021.0   Cust_2011  Company_42529   Prod_5060     Prod_Var_50606   \n",
      "89641      2021.0   Cust_2011  Company_42529   Prod_5060     Prod_Var_50609   \n",
      "89642      2021.0   Cust_2011  Company_42529   Prod_5060     Prod_Var_50607   \n",
      "89643      2021.0   Cust_2011  Company_42529   Prod_5060     Prod_Var_50608   \n",
      "\n",
      "       ...  Product Quantity  Total Selling Price  Payment Status Shipment ID  \\\n",
      "0      ...                50               215.00        Received         271   \n",
      "1      ...                50                75.00        Received         271   \n",
      "2      ...                 1                 3.95        Received         438   \n",
      "3      ...                 1                 3.95        Received         438   \n",
      "4      ...                 2                 7.90        Received         438   \n",
      "...    ...               ...                  ...             ...         ...   \n",
      "89639  ...                15                45.00        Received       12908   \n",
      "89640  ...                 4                34.00        Received       12908   \n",
      "89641  ...                 2                17.00        Received       12908   \n",
      "89642  ...                 6                66.00        Received       12908   \n",
      "89643  ...                 4                47.00        Received       12908   \n",
      "\n",
      "       Shipment Number  Shipping Address Type Shipping City  \\\n",
      "0                  271               Business    Washington   \n",
      "1                  271               Business    Washington   \n",
      "2                  438               Business     Lone Tree   \n",
      "3                  438               Business     Lone Tree   \n",
      "4                  438               Business     Lone Tree   \n",
      "...                ...                    ...           ...   \n",
      "89639            12908            Residential       Raleigh   \n",
      "89640            12908            Residential       Raleigh   \n",
      "89641            12908            Residential       Raleigh   \n",
      "89642            12908            Residential       Raleigh   \n",
      "89643            12908            Residential       Raleigh   \n",
      "\n",
      "             Shipping State Shipping Postal Code Shipping Country  \n",
      "0      District Of Columbia           20011-2343    United States  \n",
      "1      District Of Columbia           20011-2343    United States  \n",
      "2                  Colorado                80124    United States  \n",
      "3                  Colorado                80124    United States  \n",
      "4                  Colorado                80124    United States  \n",
      "...                     ...                  ...              ...  \n",
      "89639        North Carolina                27609    United States  \n",
      "89640        North Carolina                27609    United States  \n",
      "89641        North Carolina                27609    United States  \n",
      "89642        North Carolina                27609    United States  \n",
      "89643        North Carolina                27609    United States  \n",
      "\n",
      "[82727 rows x 21 columns]\n"
     ]
    }
   ],
   "source": [
    "df_clean = df_valid.dropna(subset=['Order Date', 'Shipping Country'])\n",
    "print(df_clean)\n",
    "\n",
    "df_clean.to_csv('./UrbanEdgeApparel_clean.csv', index=False)"
   ]
  },
  {
   "cell_type": "code",
   "execution_count": 66,
   "metadata": {},
   "outputs": [
    {
     "name": "stdout",
     "output_type": "stream",
     "text": [
      "United States                           80760\n",
      "Japan                                    1278\n",
      "United States Minor Outlying Islands      113\n",
      "Virgin Islands (US)                       107\n",
      "Brunei Darussalam                          76\n",
      "Germany                                    45\n",
      "Singapore                                  40\n",
      "United Kingdom                             40\n",
      "Nigeria                                    39\n",
      "Dominican Republic                         36\n",
      "Tanzania, United Republic Of               35\n",
      "Guam                                       32\n",
      "Gibraltar                                  28\n",
      "Guatemala                                  27\n",
      "Suriname                                   20\n",
      "Russian Federation                         18\n",
      "South Africa                               10\n",
      "Lebanon                                     9\n",
      "Peru                                        9\n",
      "Hong Kong                                   3\n",
      "Israel                                      2\n",
      "Canada                                      1\n",
      "Name: Shipping Country, dtype: int64\n"
     ]
    }
   ],
   "source": [
    "# order_month_summary = df_valid['Shipping Country'].value_counts()\n",
    "# print(order_month_summary)"
   ]
  },
  {
   "cell_type": "code",
   "execution_count": 10,
   "metadata": {},
   "outputs": [],
   "source": [
    "df_clean_timed = df_clean[(df_clean['Order Year'] > 2013) & (df_clean['Order Year'] < 2024)]\n"
   ]
  },
  {
   "cell_type": "markdown",
   "metadata": {},
   "source": [
    "Further format data for further analysis"
   ]
  },
  {
   "cell_type": "code",
   "execution_count": 11,
   "metadata": {},
   "outputs": [
    {
     "name": "stderr",
     "output_type": "stream",
     "text": [
      "/Users/zhao/opt/anaconda3/lib/python3.7/site-packages/ipykernel_launcher.py:1: SettingWithCopyWarning: \n",
      "A value is trying to be set on a copy of a slice from a DataFrame.\n",
      "Try using .loc[row_indexer,col_indexer] = value instead\n",
      "\n",
      "See the caveats in the documentation: https://pandas.pydata.org/pandas-docs/stable/user_guide/indexing.html#returning-a-view-versus-a-copy\n",
      "  \"\"\"Entry point for launching an IPython kernel.\n"
     ]
    }
   ],
   "source": [
    "df_clean_timed['Order Year'] = df_clean_timed['Order Year'].astype(int)"
   ]
  },
  {
   "cell_type": "code",
   "execution_count": 12,
   "metadata": {},
   "outputs": [
    {
     "data": {
      "text/html": [
       "<div>\n",
       "<style scoped>\n",
       "    .dataframe tbody tr th:only-of-type {\n",
       "        vertical-align: middle;\n",
       "    }\n",
       "\n",
       "    .dataframe tbody tr th {\n",
       "        vertical-align: top;\n",
       "    }\n",
       "\n",
       "    .dataframe thead th {\n",
       "        text-align: right;\n",
       "    }\n",
       "</style>\n",
       "<table border=\"1\" class=\"dataframe\">\n",
       "  <thead>\n",
       "    <tr style=\"text-align: right;\">\n",
       "      <th></th>\n",
       "      <th>Order ID</th>\n",
       "      <th>Order Status</th>\n",
       "      <th>Order Date</th>\n",
       "      <th>Order Day of Week</th>\n",
       "      <th>Order Month</th>\n",
       "      <th>Order Year</th>\n",
       "      <th>Customer ID</th>\n",
       "      <th>Company ID</th>\n",
       "      <th>Product ID</th>\n",
       "      <th>Product Variant ID</th>\n",
       "      <th>...</th>\n",
       "      <th>Product Quantity</th>\n",
       "      <th>Total Selling Price</th>\n",
       "      <th>Payment Status</th>\n",
       "      <th>Shipment ID</th>\n",
       "      <th>Shipment Number</th>\n",
       "      <th>Shipping Address Type</th>\n",
       "      <th>Shipping City</th>\n",
       "      <th>Shipping State</th>\n",
       "      <th>Shipping Postal Code</th>\n",
       "      <th>Shipping Country</th>\n",
       "    </tr>\n",
       "  </thead>\n",
       "  <tbody>\n",
       "    <tr>\n",
       "      <th>248</th>\n",
       "      <td>444</td>\n",
       "      <td>Completed</td>\n",
       "      <td>1/23/2014</td>\n",
       "      <td>Thursday</td>\n",
       "      <td>January</td>\n",
       "      <td>2014</td>\n",
       "      <td>Cust_2477</td>\n",
       "      <td>Company_89552</td>\n",
       "      <td>Prod_2600</td>\n",
       "      <td>Prod_Var_26010</td>\n",
       "      <td>...</td>\n",
       "      <td>16</td>\n",
       "      <td>72.0</td>\n",
       "      <td>Received</td>\n",
       "      <td>1126</td>\n",
       "      <td>1126</td>\n",
       "      <td>Business</td>\n",
       "      <td>Roseville</td>\n",
       "      <td>California</td>\n",
       "      <td>95678</td>\n",
       "      <td>United States</td>\n",
       "    </tr>\n",
       "    <tr>\n",
       "      <th>249</th>\n",
       "      <td>444</td>\n",
       "      <td>Completed</td>\n",
       "      <td>1/23/2014</td>\n",
       "      <td>Thursday</td>\n",
       "      <td>January</td>\n",
       "      <td>2014</td>\n",
       "      <td>Cust_2477</td>\n",
       "      <td>Company_89552</td>\n",
       "      <td>Prod_2600</td>\n",
       "      <td>Prod_Var_26011</td>\n",
       "      <td>...</td>\n",
       "      <td>25</td>\n",
       "      <td>112.5</td>\n",
       "      <td>Received</td>\n",
       "      <td>1126</td>\n",
       "      <td>1126</td>\n",
       "      <td>Business</td>\n",
       "      <td>Roseville</td>\n",
       "      <td>California</td>\n",
       "      <td>95678</td>\n",
       "      <td>United States</td>\n",
       "    </tr>\n",
       "    <tr>\n",
       "      <th>250</th>\n",
       "      <td>444</td>\n",
       "      <td>Completed</td>\n",
       "      <td>1/23/2014</td>\n",
       "      <td>Thursday</td>\n",
       "      <td>January</td>\n",
       "      <td>2014</td>\n",
       "      <td>Cust_2477</td>\n",
       "      <td>Company_89552</td>\n",
       "      <td>Prod_2600</td>\n",
       "      <td>Prod_Var_26012</td>\n",
       "      <td>...</td>\n",
       "      <td>12</td>\n",
       "      <td>54.0</td>\n",
       "      <td>Received</td>\n",
       "      <td>1126</td>\n",
       "      <td>1126</td>\n",
       "      <td>Business</td>\n",
       "      <td>Roseville</td>\n",
       "      <td>California</td>\n",
       "      <td>95678</td>\n",
       "      <td>United States</td>\n",
       "    </tr>\n",
       "    <tr>\n",
       "      <th>251</th>\n",
       "      <td>444</td>\n",
       "      <td>Completed</td>\n",
       "      <td>1/23/2014</td>\n",
       "      <td>Thursday</td>\n",
       "      <td>January</td>\n",
       "      <td>2014</td>\n",
       "      <td>Cust_2477</td>\n",
       "      <td>Company_89552</td>\n",
       "      <td>Prod_2600</td>\n",
       "      <td>Prod_Var_26002</td>\n",
       "      <td>...</td>\n",
       "      <td>4</td>\n",
       "      <td>18.0</td>\n",
       "      <td>Received</td>\n",
       "      <td>1126</td>\n",
       "      <td>1126</td>\n",
       "      <td>Business</td>\n",
       "      <td>Roseville</td>\n",
       "      <td>California</td>\n",
       "      <td>95678</td>\n",
       "      <td>United States</td>\n",
       "    </tr>\n",
       "    <tr>\n",
       "      <th>252</th>\n",
       "      <td>444</td>\n",
       "      <td>Completed</td>\n",
       "      <td>1/23/2014</td>\n",
       "      <td>Thursday</td>\n",
       "      <td>January</td>\n",
       "      <td>2014</td>\n",
       "      <td>Cust_2477</td>\n",
       "      <td>Company_89552</td>\n",
       "      <td>Prod_2600</td>\n",
       "      <td>Prod_Var_26006</td>\n",
       "      <td>...</td>\n",
       "      <td>1</td>\n",
       "      <td>4.5</td>\n",
       "      <td>Received</td>\n",
       "      <td>1126</td>\n",
       "      <td>1126</td>\n",
       "      <td>Business</td>\n",
       "      <td>Roseville</td>\n",
       "      <td>California</td>\n",
       "      <td>95678</td>\n",
       "      <td>United States</td>\n",
       "    </tr>\n",
       "    <tr>\n",
       "      <th>...</th>\n",
       "      <td>...</td>\n",
       "      <td>...</td>\n",
       "      <td>...</td>\n",
       "      <td>...</td>\n",
       "      <td>...</td>\n",
       "      <td>...</td>\n",
       "      <td>...</td>\n",
       "      <td>...</td>\n",
       "      <td>...</td>\n",
       "      <td>...</td>\n",
       "      <td>...</td>\n",
       "      <td>...</td>\n",
       "      <td>...</td>\n",
       "      <td>...</td>\n",
       "      <td>...</td>\n",
       "      <td>...</td>\n",
       "      <td>...</td>\n",
       "      <td>...</td>\n",
       "      <td>...</td>\n",
       "      <td>...</td>\n",
       "      <td>...</td>\n",
       "    </tr>\n",
       "    <tr>\n",
       "      <th>89639</th>\n",
       "      <td>9257</td>\n",
       "      <td>Completed</td>\n",
       "      <td>12/31/2021</td>\n",
       "      <td>Friday</td>\n",
       "      <td>December</td>\n",
       "      <td>2021</td>\n",
       "      <td>Cust_2011</td>\n",
       "      <td>Company_42529</td>\n",
       "      <td>Prod_5100</td>\n",
       "      <td>Prod_Var_51002</td>\n",
       "      <td>...</td>\n",
       "      <td>15</td>\n",
       "      <td>45.0</td>\n",
       "      <td>Received</td>\n",
       "      <td>12908</td>\n",
       "      <td>12908</td>\n",
       "      <td>Residential</td>\n",
       "      <td>Raleigh</td>\n",
       "      <td>North Carolina</td>\n",
       "      <td>27609</td>\n",
       "      <td>United States</td>\n",
       "    </tr>\n",
       "    <tr>\n",
       "      <th>89640</th>\n",
       "      <td>9257</td>\n",
       "      <td>Completed</td>\n",
       "      <td>12/31/2021</td>\n",
       "      <td>Friday</td>\n",
       "      <td>December</td>\n",
       "      <td>2021</td>\n",
       "      <td>Cust_2011</td>\n",
       "      <td>Company_42529</td>\n",
       "      <td>Prod_5060</td>\n",
       "      <td>Prod_Var_50606</td>\n",
       "      <td>...</td>\n",
       "      <td>4</td>\n",
       "      <td>34.0</td>\n",
       "      <td>Received</td>\n",
       "      <td>12908</td>\n",
       "      <td>12908</td>\n",
       "      <td>Residential</td>\n",
       "      <td>Raleigh</td>\n",
       "      <td>North Carolina</td>\n",
       "      <td>27609</td>\n",
       "      <td>United States</td>\n",
       "    </tr>\n",
       "    <tr>\n",
       "      <th>89641</th>\n",
       "      <td>9257</td>\n",
       "      <td>Completed</td>\n",
       "      <td>12/31/2021</td>\n",
       "      <td>Friday</td>\n",
       "      <td>December</td>\n",
       "      <td>2021</td>\n",
       "      <td>Cust_2011</td>\n",
       "      <td>Company_42529</td>\n",
       "      <td>Prod_5060</td>\n",
       "      <td>Prod_Var_50609</td>\n",
       "      <td>...</td>\n",
       "      <td>2</td>\n",
       "      <td>17.0</td>\n",
       "      <td>Received</td>\n",
       "      <td>12908</td>\n",
       "      <td>12908</td>\n",
       "      <td>Residential</td>\n",
       "      <td>Raleigh</td>\n",
       "      <td>North Carolina</td>\n",
       "      <td>27609</td>\n",
       "      <td>United States</td>\n",
       "    </tr>\n",
       "    <tr>\n",
       "      <th>89642</th>\n",
       "      <td>9257</td>\n",
       "      <td>Completed</td>\n",
       "      <td>12/31/2021</td>\n",
       "      <td>Friday</td>\n",
       "      <td>December</td>\n",
       "      <td>2021</td>\n",
       "      <td>Cust_2011</td>\n",
       "      <td>Company_42529</td>\n",
       "      <td>Prod_5060</td>\n",
       "      <td>Prod_Var_50607</td>\n",
       "      <td>...</td>\n",
       "      <td>6</td>\n",
       "      <td>66.0</td>\n",
       "      <td>Received</td>\n",
       "      <td>12908</td>\n",
       "      <td>12908</td>\n",
       "      <td>Residential</td>\n",
       "      <td>Raleigh</td>\n",
       "      <td>North Carolina</td>\n",
       "      <td>27609</td>\n",
       "      <td>United States</td>\n",
       "    </tr>\n",
       "    <tr>\n",
       "      <th>89643</th>\n",
       "      <td>9257</td>\n",
       "      <td>Completed</td>\n",
       "      <td>12/31/2021</td>\n",
       "      <td>Friday</td>\n",
       "      <td>December</td>\n",
       "      <td>2021</td>\n",
       "      <td>Cust_2011</td>\n",
       "      <td>Company_42529</td>\n",
       "      <td>Prod_5060</td>\n",
       "      <td>Prod_Var_50608</td>\n",
       "      <td>...</td>\n",
       "      <td>4</td>\n",
       "      <td>47.0</td>\n",
       "      <td>Received</td>\n",
       "      <td>12908</td>\n",
       "      <td>12908</td>\n",
       "      <td>Residential</td>\n",
       "      <td>Raleigh</td>\n",
       "      <td>North Carolina</td>\n",
       "      <td>27609</td>\n",
       "      <td>United States</td>\n",
       "    </tr>\n",
       "  </tbody>\n",
       "</table>\n",
       "<p>77478 rows × 21 columns</p>\n",
       "</div>"
      ],
      "text/plain": [
       "       Order ID Order Status  Order Date Order Day of Week Order Month  \\\n",
       "248         444    Completed   1/23/2014          Thursday     January   \n",
       "249         444    Completed   1/23/2014          Thursday     January   \n",
       "250         444    Completed   1/23/2014          Thursday     January   \n",
       "251         444    Completed   1/23/2014          Thursday     January   \n",
       "252         444    Completed   1/23/2014          Thursday     January   \n",
       "...         ...          ...         ...               ...         ...   \n",
       "89639      9257    Completed  12/31/2021            Friday    December   \n",
       "89640      9257    Completed  12/31/2021            Friday    December   \n",
       "89641      9257    Completed  12/31/2021            Friday    December   \n",
       "89642      9257    Completed  12/31/2021            Friday    December   \n",
       "89643      9257    Completed  12/31/2021            Friday    December   \n",
       "\n",
       "       Order Year Customer ID     Company ID Product ID Product Variant ID  \\\n",
       "248          2014   Cust_2477  Company_89552  Prod_2600     Prod_Var_26010   \n",
       "249          2014   Cust_2477  Company_89552  Prod_2600     Prod_Var_26011   \n",
       "250          2014   Cust_2477  Company_89552  Prod_2600     Prod_Var_26012   \n",
       "251          2014   Cust_2477  Company_89552  Prod_2600     Prod_Var_26002   \n",
       "252          2014   Cust_2477  Company_89552  Prod_2600     Prod_Var_26006   \n",
       "...           ...         ...            ...        ...                ...   \n",
       "89639        2021   Cust_2011  Company_42529  Prod_5100     Prod_Var_51002   \n",
       "89640        2021   Cust_2011  Company_42529  Prod_5060     Prod_Var_50606   \n",
       "89641        2021   Cust_2011  Company_42529  Prod_5060     Prod_Var_50609   \n",
       "89642        2021   Cust_2011  Company_42529  Prod_5060     Prod_Var_50607   \n",
       "89643        2021   Cust_2011  Company_42529  Prod_5060     Prod_Var_50608   \n",
       "\n",
       "       ...  Product Quantity  Total Selling Price  Payment Status Shipment ID  \\\n",
       "248    ...                16                 72.0        Received        1126   \n",
       "249    ...                25                112.5        Received        1126   \n",
       "250    ...                12                 54.0        Received        1126   \n",
       "251    ...                 4                 18.0        Received        1126   \n",
       "252    ...                 1                  4.5        Received        1126   \n",
       "...    ...               ...                  ...             ...         ...   \n",
       "89639  ...                15                 45.0        Received       12908   \n",
       "89640  ...                 4                 34.0        Received       12908   \n",
       "89641  ...                 2                 17.0        Received       12908   \n",
       "89642  ...                 6                 66.0        Received       12908   \n",
       "89643  ...                 4                 47.0        Received       12908   \n",
       "\n",
       "       Shipment Number  Shipping Address Type Shipping City  Shipping State  \\\n",
       "248               1126               Business     Roseville      California   \n",
       "249               1126               Business     Roseville      California   \n",
       "250               1126               Business     Roseville      California   \n",
       "251               1126               Business     Roseville      California   \n",
       "252               1126               Business     Roseville      California   \n",
       "...                ...                    ...           ...             ...   \n",
       "89639            12908            Residential       Raleigh  North Carolina   \n",
       "89640            12908            Residential       Raleigh  North Carolina   \n",
       "89641            12908            Residential       Raleigh  North Carolina   \n",
       "89642            12908            Residential       Raleigh  North Carolina   \n",
       "89643            12908            Residential       Raleigh  North Carolina   \n",
       "\n",
       "      Shipping Postal Code Shipping Country  \n",
       "248                  95678    United States  \n",
       "249                  95678    United States  \n",
       "250                  95678    United States  \n",
       "251                  95678    United States  \n",
       "252                  95678    United States  \n",
       "...                    ...              ...  \n",
       "89639                27609    United States  \n",
       "89640                27609    United States  \n",
       "89641                27609    United States  \n",
       "89642                27609    United States  \n",
       "89643                27609    United States  \n",
       "\n",
       "[77478 rows x 21 columns]"
      ]
     },
     "execution_count": 12,
     "metadata": {},
     "output_type": "execute_result"
    }
   ],
   "source": [
    "df_clean_timed"
   ]
  },
  {
   "cell_type": "markdown",
   "metadata": {},
   "source": [
    "# Data Exploration"
   ]
  },
  {
   "cell_type": "code",
   "execution_count": 143,
   "metadata": {},
   "outputs": [
    {
     "data": {
      "text/plain": [
       "Residential    46838\n",
       "Business       30640\n",
       "Name: Shipping Address Type, dtype: int64"
      ]
     },
     "execution_count": 143,
     "metadata": {},
     "output_type": "execute_result"
    }
   ],
   "source": [
    "df_clean_timed['Shipping Address Type'].value_counts()"
   ]
  },
  {
   "cell_type": "markdown",
   "metadata": {},
   "source": [
    "Group by Order"
   ]
  },
  {
   "cell_type": "code",
   "execution_count": 289,
   "metadata": {},
   "outputs": [
    {
     "data": {
      "text/html": [
       "<div>\n",
       "<style scoped>\n",
       "    .dataframe tbody tr th:only-of-type {\n",
       "        vertical-align: middle;\n",
       "    }\n",
       "\n",
       "    .dataframe tbody tr th {\n",
       "        vertical-align: top;\n",
       "    }\n",
       "\n",
       "    .dataframe thead th {\n",
       "        text-align: right;\n",
       "    }\n",
       "</style>\n",
       "<table border=\"1\" class=\"dataframe\">\n",
       "  <thead>\n",
       "    <tr style=\"text-align: right;\">\n",
       "      <th></th>\n",
       "      <th>Order ID</th>\n",
       "      <th>Company ID</th>\n",
       "      <th>Customer ID</th>\n",
       "      <th>Order Year</th>\n",
       "      <th>Order Month</th>\n",
       "      <th>Total Selling Price</th>\n",
       "    </tr>\n",
       "  </thead>\n",
       "  <tbody>\n",
       "    <tr>\n",
       "      <th>248</th>\n",
       "      <td>444</td>\n",
       "      <td>Company_89552</td>\n",
       "      <td>Cust_2477</td>\n",
       "      <td>2014</td>\n",
       "      <td>January</td>\n",
       "      <td>72.0</td>\n",
       "    </tr>\n",
       "    <tr>\n",
       "      <th>249</th>\n",
       "      <td>444</td>\n",
       "      <td>Company_89552</td>\n",
       "      <td>Cust_2477</td>\n",
       "      <td>2014</td>\n",
       "      <td>January</td>\n",
       "      <td>112.5</td>\n",
       "    </tr>\n",
       "    <tr>\n",
       "      <th>250</th>\n",
       "      <td>444</td>\n",
       "      <td>Company_89552</td>\n",
       "      <td>Cust_2477</td>\n",
       "      <td>2014</td>\n",
       "      <td>January</td>\n",
       "      <td>54.0</td>\n",
       "    </tr>\n",
       "    <tr>\n",
       "      <th>251</th>\n",
       "      <td>444</td>\n",
       "      <td>Company_89552</td>\n",
       "      <td>Cust_2477</td>\n",
       "      <td>2014</td>\n",
       "      <td>January</td>\n",
       "      <td>18.0</td>\n",
       "    </tr>\n",
       "    <tr>\n",
       "      <th>252</th>\n",
       "      <td>444</td>\n",
       "      <td>Company_89552</td>\n",
       "      <td>Cust_2477</td>\n",
       "      <td>2014</td>\n",
       "      <td>January</td>\n",
       "      <td>4.5</td>\n",
       "    </tr>\n",
       "    <tr>\n",
       "      <th>...</th>\n",
       "      <td>...</td>\n",
       "      <td>...</td>\n",
       "      <td>...</td>\n",
       "      <td>...</td>\n",
       "      <td>...</td>\n",
       "      <td>...</td>\n",
       "    </tr>\n",
       "    <tr>\n",
       "      <th>89637</th>\n",
       "      <td>9257</td>\n",
       "      <td>Company_42529</td>\n",
       "      <td>Cust_2011</td>\n",
       "      <td>2021</td>\n",
       "      <td>December</td>\n",
       "      <td>80.0</td>\n",
       "    </tr>\n",
       "    <tr>\n",
       "      <th>89638</th>\n",
       "      <td>9257</td>\n",
       "      <td>Company_42529</td>\n",
       "      <td>Cust_2011</td>\n",
       "      <td>2021</td>\n",
       "      <td>December</td>\n",
       "      <td>30.0</td>\n",
       "    </tr>\n",
       "    <tr>\n",
       "      <th>89639</th>\n",
       "      <td>9257</td>\n",
       "      <td>Company_42529</td>\n",
       "      <td>Cust_2011</td>\n",
       "      <td>2021</td>\n",
       "      <td>December</td>\n",
       "      <td>45.0</td>\n",
       "    </tr>\n",
       "    <tr>\n",
       "      <th>89642</th>\n",
       "      <td>9257</td>\n",
       "      <td>Company_42529</td>\n",
       "      <td>Cust_2011</td>\n",
       "      <td>2021</td>\n",
       "      <td>December</td>\n",
       "      <td>66.0</td>\n",
       "    </tr>\n",
       "    <tr>\n",
       "      <th>89643</th>\n",
       "      <td>9257</td>\n",
       "      <td>Company_42529</td>\n",
       "      <td>Cust_2011</td>\n",
       "      <td>2021</td>\n",
       "      <td>December</td>\n",
       "      <td>47.0</td>\n",
       "    </tr>\n",
       "  </tbody>\n",
       "</table>\n",
       "<p>55968 rows × 6 columns</p>\n",
       "</div>"
      ],
      "text/plain": [
       "       Order ID     Company ID Customer ID  Order Year Order Month  \\\n",
       "248         444  Company_89552   Cust_2477        2014     January   \n",
       "249         444  Company_89552   Cust_2477        2014     January   \n",
       "250         444  Company_89552   Cust_2477        2014     January   \n",
       "251         444  Company_89552   Cust_2477        2014     January   \n",
       "252         444  Company_89552   Cust_2477        2014     January   \n",
       "...         ...            ...         ...         ...         ...   \n",
       "89637      9257  Company_42529   Cust_2011        2021    December   \n",
       "89638      9257  Company_42529   Cust_2011        2021    December   \n",
       "89639      9257  Company_42529   Cust_2011        2021    December   \n",
       "89642      9257  Company_42529   Cust_2011        2021    December   \n",
       "89643      9257  Company_42529   Cust_2011        2021    December   \n",
       "\n",
       "       Total Selling Price  \n",
       "248                   72.0  \n",
       "249                  112.5  \n",
       "250                   54.0  \n",
       "251                   18.0  \n",
       "252                    4.5  \n",
       "...                    ...  \n",
       "89637                 80.0  \n",
       "89638                 30.0  \n",
       "89639                 45.0  \n",
       "89642                 66.0  \n",
       "89643                 47.0  \n",
       "\n",
       "[55968 rows x 6 columns]"
      ]
     },
     "execution_count": 289,
     "metadata": {},
     "output_type": "execute_result"
    }
   ],
   "source": [
    "df_order = df_clean_timed[['Order ID', 'Company ID', 'Customer ID', 'Order Year', 'Order Month', 'Total Selling Price']].drop_duplicates()\n",
    "df_order\n"
   ]
  },
  {
   "cell_type": "markdown",
   "metadata": {},
   "source": [
    "Segment by seasons"
   ]
  },
  {
   "cell_type": "code",
   "execution_count": 290,
   "metadata": {},
   "outputs": [],
   "source": [
    "month2season = lambda x: 'Winter' if x in ['December', 'January', 'Febuary'] else 'Spring' if x in ['March', \"April\", 'May'] else 'Summer' if x in ['June', 'July', 'August'] else 'Fall'\n",
    "df_order['Season'] = df_order['Order Month'].apply(month2season)\n",
    "\n",
    "total_selling_price_season = df_order.groupby(['Order Year', 'Season'])['Total Selling Price'].sum()\n",
    "total_selling_price_season.to_csv('./total_selling_price_season.csv', header=True)"
   ]
  },
  {
   "cell_type": "markdown",
   "metadata": {},
   "source": [
    "Repeat sales"
   ]
  },
  {
   "cell_type": "code",
   "execution_count": 148,
   "metadata": {},
   "outputs": [
    {
     "data": {
      "text/plain": [
       "count    2026.000000\n",
       "mean       27.624877\n",
       "std       146.010196\n",
       "min         1.000000\n",
       "25%         1.000000\n",
       "50%         3.000000\n",
       "75%        12.000000\n",
       "max      3803.000000\n",
       "Name: Customer ID, dtype: float64"
      ]
     },
     "execution_count": 148,
     "metadata": {},
     "output_type": "execute_result"
    }
   ],
   "source": [
    "freq = df_order['Customer ID'].value_counts()\n",
    "freq.describe()"
   ]
  },
  {
   "cell_type": "code",
   "execution_count": 100,
   "metadata": {},
   "outputs": [],
   "source": [
    "# import matplotlib.pyplot as plt\n",
    "\n",
    "\n",
    "# # Plotting the frequency distribution\n",
    "# plt.hist(freq, bins=30)\n",
    "# plt.xlabel('Purchase Frequency')\n",
    "# plt.ylabel('Count of Customers')\n",
    "# plt.title('Count of Customers by Purchase Frequency')\n",
    "# plt.show()"
   ]
  },
  {
   "cell_type": "markdown",
   "metadata": {},
   "source": [
    "To better visualize,"
   ]
  },
  {
   "cell_type": "code",
   "execution_count": 149,
   "metadata": {},
   "outputs": [
    {
     "data": {
      "image/png": "[encoded data removed]",
      "text/plain": [
       "<Figure size 640x480 with 1 Axes>"
      ]
     },
     "metadata": {},
     "output_type": "display_data"
    }
   ],
   "source": [
    "import matplotlib.pyplot as plt\n",
    "\n",
    "# Define the labels for the pie chart\n",
    "labels = ['Group 1 (X<10)', 'Group 2 (10<=X<50)', 'Group 3 (X>=50)']\n",
    "\n",
    "# Define the sizes for each group\n",
    "sizes = [freq[freq < 10].count(), freq[(freq >= 10) & (freq < 50)].count(), freq[freq >= 50].count()]\n",
    "\n",
    "# Define the colors for each group\n",
    "colors = ['#ff9999','#66b3ff','#99ff99']\n",
    "\n",
    "# Create the pie chart\n",
    "plt.pie(sizes, labels=labels, colors=colors, autopct='%1.1f%%', startangle=90)\n",
    "\n",
    "# Add a title\n",
    "plt.title('Purchase Number Distribution')\n",
    "\n",
    "# Equal aspect ratio ensures that pie is drawn as a circle\n",
    "plt.axis('equal')\n",
    "\n",
    "# Display the chart\n",
    "plt.show()"
   ]
  },
  {
   "cell_type": "markdown",
   "metadata": {},
   "source": [
    "Average Purchase Value per Company measures how much a company spend on each order in average\n",
    "\n",
    "Average Purchase Value = (total revenue over a set time frame / number of purchases over the same time frame)"
   ]
  },
  {
   "cell_type": "markdown",
   "metadata": {},
   "source": [
    "avg_purchase_value_per_company = df_clean.groupby(['Order ID', 'Company ID'])['Total Selling Price'].sum().groupby('Company ID').mean()"
   ]
  },
  {
   "cell_type": "code",
   "execution_count": 97,
   "metadata": {},
   "outputs": [
    {
     "data": {
      "text/plain": [
       "count     923.000000\n",
       "mean      314.955995\n",
       "std       466.294023\n",
       "min         5.000000\n",
       "25%       158.933333\n",
       "50%       215.450000\n",
       "75%       308.351316\n",
       "max      8760.887209\n",
       "Name: Total Selling Price, dtype: float64"
      ]
     },
     "execution_count": 97,
     "metadata": {},
     "output_type": "execute_result"
    }
   ],
   "source": [
    "avg_purchase_value_per_company = df_clean_timed.groupby(['Order ID', 'Company ID'])['Total Selling Price'].sum().groupby(['Company ID']).mean()\n",
    "avg_purchase_value_per_company.describe()"
   ]
  },
  {
   "cell_type": "code",
   "execution_count": 96,
   "metadata": {},
   "outputs": [
    {
     "data": {
      "image/png": "[encoded data removed]",
      "text/plain": [
       "<Figure size 640x480 with 1 Axes>"
      ]
     },
     "metadata": {},
     "output_type": "display_data"
    }
   ],
   "source": [
    "import matplotlib.pyplot as plt\n",
    "\n",
    "# Assuming avg_purchase_value_per_company is a pandas Series\n",
    "plt.hist(avg_purchase_value_per_company, bins=10)\n",
    "\n",
    "plt.title('Histogram of Average Purchase Value per Company')\n",
    "plt.xlabel('Average Purchase Value')\n",
    "plt.ylabel('Frequency')\n",
    "\n",
    "plt.show()"
   ]
  },
  {
   "cell_type": "code",
   "execution_count": 98,
   "metadata": {},
   "outputs": [
    {
     "data": {
      "image/png": "[encoded data removed]",
      "text/plain": [
       "<Figure size 640x480 with 1 Axes>"
      ]
     },
     "metadata": {},
     "output_type": "display_data"
    }
   ],
   "source": [
    "import matplotlib.pyplot as plt\n",
    "\n",
    "# Define the labels for the pie chart\n",
    "labels = ['Group 1 (X<300)', 'Group 2 (300<=X<1000)', 'Group 3 (X>=1000)']\n",
    "\n",
    "# Define the sizes for each group\n",
    "sizes = [avg_purchase_value_per_company[avg_purchase_value_per_company < 300].count(), \n",
    "         avg_purchase_value_per_company[(avg_purchase_value_per_company >= 300) & (avg_purchase_value_per_company < 1000)].count(), \n",
    "         avg_purchase_value_per_company[avg_purchase_value_per_company >= 1000].count()]\n",
    "\n",
    "# Define the colors for each group\n",
    "colors = ['#ff9999','#66b3ff','#99ff99']\n",
    "\n",
    "# Create the pie chart\n",
    "plt.pie(sizes, labels=labels, colors=colors, autopct='%1.1f%%', startangle=90)\n",
    "\n",
    "# Add a title\n",
    "plt.title('Average Purchase Value Distribution')\n",
    "\n",
    "# Equal aspect ratio ensures that pie is drawn as a circle\n",
    "plt.axis('equal')\n",
    "\n",
    "# Display the chart\n",
    "plt.show()"
   ]
  },
  {
   "cell_type": "code",
   "execution_count": 101,
   "metadata": {},
   "outputs": [],
   "source": [
    "avg_purchase_value_per_company_yearly = df_clean_timed.groupby(['Order ID', 'Company ID', 'Order Year'])['Total Selling Price'].sum().groupby(['Company ID', 'Order Year']).mean()\n",
    "avg_purchase_value_per_company_yearly.to_csv('./avg_purchase_value_per_company_yearly.csv')"
   ]
  },
  {
   "cell_type": "code",
   "execution_count": 102,
   "metadata": {},
   "outputs": [
    {
     "data": {
      "text/plain": [
       "Company ID     Order Year\n",
       "Company_10049  2023.0        204.00\n",
       "Company_1021   2022.0        391.52\n",
       "               2023.0        629.20\n",
       "Company_10257  2023.0         47.00\n",
       "Company_10269  2023.0        201.00\n",
       "                              ...  \n",
       "Company_9598   2023.0         44.00\n",
       "Company_9739   2023.0         10.00\n",
       "Company_9761   2019.0        525.85\n",
       "               2021.0        781.85\n",
       "               2023.0        862.95\n",
       "Name: Total Selling Price, Length: 2523, dtype: float64"
      ]
     },
     "execution_count": 102,
     "metadata": {},
     "output_type": "execute_result"
    }
   ],
   "source": [
    "avg_purchase_value_per_company_yearly"
   ]
  },
  {
   "cell_type": "code",
   "execution_count": 91,
   "metadata": {},
   "outputs": [],
   "source": [
    "avg_purchase_value_per_company_yearly.groupby('Order Year').mean().to_csv('./avg_purchase_value_yearly.csv')"
   ]
  },
  {
   "cell_type": "markdown",
   "metadata": {},
   "source": [
    "Average purchase frequency per year = (total number of purchases over a period / number of customers during that same period) \n",
    "\n",
    "Average purchase frequency per Company measures how frequent a company purchase each year\n",
    "= (total number of purchases over a period / number of customers during that same period) "
   ]
  },
  {
   "cell_type": "code",
   "execution_count": 123,
   "metadata": {},
   "outputs": [],
   "source": [
    "total_purchase_count_per_company = df_order.groupby(['Company ID'])['Order ID'].nunique()\n",
    "total_purchase_count_per_company_yearly = df_clean_timed.groupby(['Company ID', 'Order Year'])['Order ID'].nunique()\n",
    "\n",
    "acquire_year = df_clean_timed.groupby('Company ID')['Order Year'].min()\n",
    "\n",
    "merge_df = pd.merge(total_purchase_count_per_company, acquire_year, on='Company ID')\n",
    "\n",
    "merge_df['yearly_avg_purchase_freq_per_company'] = merge_df['Order ID'] / (2024 - merge_df['Order Year'])\n"
   ]
  },
  {
   "cell_type": "code",
   "execution_count": 124,
   "metadata": {},
   "outputs": [
    {
     "data": {
      "text/html": [
       "<div>\n",
       "<style scoped>\n",
       "    .dataframe tbody tr th:only-of-type {\n",
       "        vertical-align: middle;\n",
       "    }\n",
       "\n",
       "    .dataframe tbody tr th {\n",
       "        vertical-align: top;\n",
       "    }\n",
       "\n",
       "    .dataframe thead th {\n",
       "        text-align: right;\n",
       "    }\n",
       "</style>\n",
       "<table border=\"1\" class=\"dataframe\">\n",
       "  <thead>\n",
       "    <tr style=\"text-align: right;\">\n",
       "      <th></th>\n",
       "      <th>Order ID</th>\n",
       "      <th>Order Year</th>\n",
       "      <th>yearly_avg_purchase_freq_per_company</th>\n",
       "    </tr>\n",
       "    <tr>\n",
       "      <th>Company ID</th>\n",
       "      <th></th>\n",
       "      <th></th>\n",
       "      <th></th>\n",
       "    </tr>\n",
       "  </thead>\n",
       "  <tbody>\n",
       "    <tr>\n",
       "      <th>Company_10049</th>\n",
       "      <td>1</td>\n",
       "      <td>2023.0</td>\n",
       "      <td>1.000000</td>\n",
       "    </tr>\n",
       "    <tr>\n",
       "      <th>Company_1021</th>\n",
       "      <td>7</td>\n",
       "      <td>2022.0</td>\n",
       "      <td>3.500000</td>\n",
       "    </tr>\n",
       "    <tr>\n",
       "      <th>Company_10257</th>\n",
       "      <td>1</td>\n",
       "      <td>2023.0</td>\n",
       "      <td>1.000000</td>\n",
       "    </tr>\n",
       "    <tr>\n",
       "      <th>Company_10269</th>\n",
       "      <td>1</td>\n",
       "      <td>2023.0</td>\n",
       "      <td>1.000000</td>\n",
       "    </tr>\n",
       "    <tr>\n",
       "      <th>Company_10511</th>\n",
       "      <td>6</td>\n",
       "      <td>2021.0</td>\n",
       "      <td>2.000000</td>\n",
       "    </tr>\n",
       "    <tr>\n",
       "      <th>...</th>\n",
       "      <td>...</td>\n",
       "      <td>...</td>\n",
       "      <td>...</td>\n",
       "    </tr>\n",
       "    <tr>\n",
       "      <th>Company_94837</th>\n",
       "      <td>1</td>\n",
       "      <td>2015.0</td>\n",
       "      <td>0.111111</td>\n",
       "    </tr>\n",
       "    <tr>\n",
       "      <th>Company_9486</th>\n",
       "      <td>4</td>\n",
       "      <td>2021.0</td>\n",
       "      <td>1.333333</td>\n",
       "    </tr>\n",
       "    <tr>\n",
       "      <th>Company_9598</th>\n",
       "      <td>1</td>\n",
       "      <td>2023.0</td>\n",
       "      <td>1.000000</td>\n",
       "    </tr>\n",
       "    <tr>\n",
       "      <th>Company_9739</th>\n",
       "      <td>1</td>\n",
       "      <td>2023.0</td>\n",
       "      <td>1.000000</td>\n",
       "    </tr>\n",
       "    <tr>\n",
       "      <th>Company_9761</th>\n",
       "      <td>3</td>\n",
       "      <td>2019.0</td>\n",
       "      <td>0.600000</td>\n",
       "    </tr>\n",
       "  </tbody>\n",
       "</table>\n",
       "<p>923 rows × 3 columns</p>\n",
       "</div>"
      ],
      "text/plain": [
       "               Order ID  Order Year  yearly_avg_purchase_freq_per_company\n",
       "Company ID                                                               \n",
       "Company_10049         1      2023.0                              1.000000\n",
       "Company_1021          7      2022.0                              3.500000\n",
       "Company_10257         1      2023.0                              1.000000\n",
       "Company_10269         1      2023.0                              1.000000\n",
       "Company_10511         6      2021.0                              2.000000\n",
       "...                 ...         ...                                   ...\n",
       "Company_94837         1      2015.0                              0.111111\n",
       "Company_9486          4      2021.0                              1.333333\n",
       "Company_9598          1      2023.0                              1.000000\n",
       "Company_9739          1      2023.0                              1.000000\n",
       "Company_9761          3      2019.0                              0.600000\n",
       "\n",
       "[923 rows x 3 columns]"
      ]
     },
     "execution_count": 124,
     "metadata": {},
     "output_type": "execute_result"
    }
   ],
   "source": [
    "merge_df"
   ]
  },
  {
   "cell_type": "code",
   "execution_count": 126,
   "metadata": {},
   "outputs": [
    {
     "data": {
      "text/plain": [
       "count    923.000000\n",
       "mean       1.400990\n",
       "std        9.380265\n",
       "min        0.100000\n",
       "25%        0.200000\n",
       "50%        0.500000\n",
       "75%        1.100000\n",
       "max      279.000000\n",
       "Name: yearly_avg_purchase_freq_per_company, dtype: float64"
      ]
     },
     "execution_count": 126,
     "metadata": {},
     "output_type": "execute_result"
    }
   ],
   "source": [
    "merge_df['yearly_avg_purchase_freq_per_company'].describe()"
   ]
  },
  {
   "cell_type": "markdown",
   "metadata": {},
   "source": [
    "# Basket size"
   ]
  },
  {
   "cell_type": "code",
   "execution_count": 282,
   "metadata": {},
   "outputs": [
    {
     "data": {
      "text/plain": [
       "Order Year\n",
       "2014    6.903475\n",
       "2015    6.473577\n",
       "2016    5.844482\n",
       "2017    5.622396\n",
       "2018    5.216745\n",
       "Name: Product ID, dtype: float64"
      ]
     },
     "execution_count": 282,
     "metadata": {},
     "output_type": "execute_result"
    }
   ],
   "source": [
    "df_basket_year = df_clean_timed.groupby(['Order ID', 'Customer ID', 'Order Year'])['Product ID'].nunique().groupby(['Order Year']).mean()\n",
    "df_basket_year_per_customer = df_clean_timed.groupby(['Order ID', 'Customer ID', 'Order Year'])['Product ID'].nunique().groupby(['Order Year', 'Customer ID']).mean()\n",
    "\n",
    "\n",
    "df_basket_year.head()"
   ]
  },
  {
   "cell_type": "code",
   "execution_count": 283,
   "metadata": {},
   "outputs": [],
   "source": [
    "df_basket_year.to_csv('./avg_basket_size_yearly.csv')\n",
    "df_basket_year_per_customer.to_csv('./avg_basket_size_yearly_per_customer.csv')"
   ]
  },
  {
   "cell_type": "markdown",
   "metadata": {},
   "source": [
    "## Customer Value (Company)"
   ]
  },
  {
   "cell_type": "code",
   "execution_count": 128,
   "metadata": {},
   "outputs": [
    {
     "data": {
      "text/plain": [
       "count       923.000000\n",
       "mean        759.608513\n",
       "std        5286.806661\n",
       "min           2.500000\n",
       "25%          38.816667\n",
       "50%         102.520000\n",
       "75%         311.398611\n",
       "max      107845.210000\n",
       "dtype: float64"
      ]
     },
     "execution_count": 128,
     "metadata": {},
     "output_type": "execute_result"
    }
   ],
   "source": [
    "customer_value = merge_df['yearly_avg_purchase_freq_per_company'] * avg_purchase_value_per_company\n",
    "customer_value.describe()"
   ]
  },
  {
   "cell_type": "code",
   "execution_count": 140,
   "metadata": {},
   "outputs": [
    {
     "data": {
      "image/png": "[encoded data removed]",
      "text/plain": [
       "<Figure size 640x480 with 1 Axes>"
      ]
     },
     "metadata": {},
     "output_type": "display_data"
    }
   ],
   "source": [
    "import matplotlib.pyplot as plt\n",
    "\n",
    "# Define the labels for the pie chart\n",
    "labels = ['Group 1 (X<30)', 'Group 2 (30<=X<300)', 'Group 3 (X>=300)']\n",
    "\n",
    "# Define the sizes for each group\n",
    "sizes = [customer_value[customer_value < 30].count(), \n",
    "         customer_value[(customer_value >= 30) & (customer_value < 300)].count(), \n",
    "         customer_value[customer_value >= 300].count(), ]\n",
    "\n",
    "# Define the colors for each group\n",
    "colors = ['#ff9999','#66b3ff','#99ff99']\n",
    "\n",
    "# Create the pie chart\n",
    "plt.pie(sizes, labels=labels, colors=colors, autopct='%1.1f%%', startangle=90)\n",
    "\n",
    "# Add a title\n",
    "plt.title('Average Purchase Value Distribution')\n",
    "\n",
    "# Equal aspect ratio ensures that pie is drawn as a circle\n",
    "plt.axis('equal')\n",
    "\n",
    "# Display the chart\n",
    "plt.show()"
   ]
  },
  {
   "cell_type": "code",
   "execution_count": 142,
   "metadata": {},
   "outputs": [
    {
     "data": {
      "image/png": "[encoded data removed]",
      "text/plain": [
       "<Figure size 640x480 with 1 Axes>"
      ]
     },
     "metadata": {},
     "output_type": "display_data"
    }
   ],
   "source": [
    "import matplotlib.pyplot as plt\n",
    "\n",
    "# Assuming merge_df is the DataFrame containing the data\n",
    "x = np.log(merge_df['yearly_avg_purchase_freq_per_company'])\n",
    "y = np.log(avg_purchase_value_per_company)\n",
    "\n",
    "# Create the scatter plot\n",
    "plt.scatter(x, y)\n",
    "\n",
    "# Set the labels and title\n",
    "plt.xlabel('Yearly Average Purchase Frequency per Company')\n",
    "plt.ylabel('Average Purchase Value per Company')\n",
    "plt.title('Scatter Plot')\n",
    "\n",
    "# Show the plot\n",
    "plt.show()"
   ]
  },
  {
   "cell_type": "markdown",
   "metadata": {},
   "source": [
    "# Customer Segmentation: RFM Analysis"
   ]
  },
  {
   "cell_type": "code",
   "execution_count": 216,
   "metadata": {},
   "outputs": [
    {
     "name": "stderr",
     "output_type": "stream",
     "text": [
      "/Users/zhao/opt/anaconda3/lib/python3.7/site-packages/ipykernel_launcher.py:4: SettingWithCopyWarning: \n",
      "A value is trying to be set on a copy of a slice from a DataFrame.\n",
      "Try using .loc[row_indexer,col_indexer] = value instead\n",
      "\n",
      "See the caveats in the documentation: https://pandas.pydata.org/pandas-docs/stable/user_guide/indexing.html#returning-a-view-versus-a-copy\n",
      "  after removing the cwd from sys.path.\n"
     ]
    },
    {
     "data": {
      "text/html": [
       "<div>\n",
       "<style scoped>\n",
       "    .dataframe tbody tr th:only-of-type {\n",
       "        vertical-align: middle;\n",
       "    }\n",
       "\n",
       "    .dataframe tbody tr th {\n",
       "        vertical-align: top;\n",
       "    }\n",
       "\n",
       "    .dataframe thead th {\n",
       "        text-align: right;\n",
       "    }\n",
       "</style>\n",
       "<table border=\"1\" class=\"dataframe\">\n",
       "  <thead>\n",
       "    <tr style=\"text-align: right;\">\n",
       "      <th></th>\n",
       "      <th>Recency</th>\n",
       "      <th>Frequency</th>\n",
       "      <th>Monetary</th>\n",
       "      <th>AcquireTime</th>\n",
       "    </tr>\n",
       "    <tr>\n",
       "      <th>Customer ID</th>\n",
       "      <th></th>\n",
       "      <th></th>\n",
       "      <th></th>\n",
       "      <th></th>\n",
       "    </tr>\n",
       "  </thead>\n",
       "  <tbody>\n",
       "    <tr>\n",
       "      <th>Cust_1004</th>\n",
       "      <td>289</td>\n",
       "      <td>1.000000</td>\n",
       "      <td>12.00</td>\n",
       "      <td>1.0</td>\n",
       "    </tr>\n",
       "    <tr>\n",
       "      <th>Cust_1005</th>\n",
       "      <td>103</td>\n",
       "      <td>2.400000</td>\n",
       "      <td>9628.15</td>\n",
       "      <td>5.0</td>\n",
       "    </tr>\n",
       "    <tr>\n",
       "      <th>Cust_1006</th>\n",
       "      <td>1069</td>\n",
       "      <td>0.333333</td>\n",
       "      <td>17.00</td>\n",
       "      <td>3.0</td>\n",
       "    </tr>\n",
       "    <tr>\n",
       "      <th>Cust_1007</th>\n",
       "      <td>969</td>\n",
       "      <td>0.333333</td>\n",
       "      <td>13.36</td>\n",
       "      <td>3.0</td>\n",
       "    </tr>\n",
       "    <tr>\n",
       "      <th>Cust_1008</th>\n",
       "      <td>1408</td>\n",
       "      <td>0.750000</td>\n",
       "      <td>2217.58</td>\n",
       "      <td>8.0</td>\n",
       "    </tr>\n",
       "  </tbody>\n",
       "</table>\n",
       "</div>"
      ],
      "text/plain": [
       "             Recency  Frequency  Monetary  AcquireTime\n",
       "Customer ID                                           \n",
       "Cust_1004        289   1.000000     12.00          1.0\n",
       "Cust_1005        103   2.400000   9628.15          5.0\n",
       "Cust_1006       1069   0.333333     17.00          3.0\n",
       "Cust_1007        969   0.333333     13.36          3.0\n",
       "Cust_1008       1408   0.750000   2217.58          8.0"
      ]
     },
     "execution_count": 216,
     "metadata": {},
     "output_type": "execute_result"
    }
   ],
   "source": [
    "from datetime import datetime\n",
    "\n",
    "# Convert 'Order Date' to datetime format\n",
    "df_clean_timed['Order Date'] = pd.to_datetime(df_clean_timed['Order Date'])\n",
    "# df_clean_timed['Acquire_year'] = df_clean_timed.groupby('Company ID')['Order Year'].transform('min')\n",
    "\n",
    "# Assuming the current date is the maximum date in the dataset plus one day\n",
    "current_date = df_clean_timed['Order Date'].max() + pd.Timedelta(days=1)\n",
    "\n",
    "# Group data by customer ID to calculate RFM metrics\n",
    "rfm = df_clean_timed.groupby('Customer ID').agg({\n",
    "    'Order Date': lambda x: (current_date - x.max()).days,  # Recency: days since last purchase\n",
    "    'Order ID': 'nunique',  # Frequency: count of unique transactions\n",
    "    'Total Selling Price': 'sum',  # Monetary: sum of total spending\n",
    "    'Order Year': lambda x: (current_date.year - x.min()) + 1,\n",
    "}).rename(columns={\n",
    "    'Order Date': 'Recency',\n",
    "    'Order ID': 'Frequency',\n",
    "    'Total Selling Price': 'Monetary',\n",
    "    'Order Year': 'AcquireTime'\n",
    "})\n",
    "\n",
    "# Adjust Frequency calculation\n",
    "rfm['Frequency'] = rfm['Frequency'] / rfm['AcquireTime']\n",
    "\n",
    "\n",
    "# Display the first few rows of the RFM DataFrame\n",
    "rfm.head()\n"
   ]
  },
  {
   "cell_type": "code",
   "execution_count": 217,
   "metadata": {},
   "outputs": [
    {
     "data": {
      "text/html": [
       "<div>\n",
       "<style scoped>\n",
       "    .dataframe tbody tr th:only-of-type {\n",
       "        vertical-align: middle;\n",
       "    }\n",
       "\n",
       "    .dataframe tbody tr th {\n",
       "        vertical-align: top;\n",
       "    }\n",
       "\n",
       "    .dataframe thead th {\n",
       "        text-align: right;\n",
       "    }\n",
       "</style>\n",
       "<table border=\"1\" class=\"dataframe\">\n",
       "  <thead>\n",
       "    <tr style=\"text-align: right;\">\n",
       "      <th></th>\n",
       "      <th>Recency</th>\n",
       "      <th>Frequency</th>\n",
       "      <th>Monetary</th>\n",
       "      <th>AcquireTime</th>\n",
       "    </tr>\n",
       "    <tr>\n",
       "      <th>Customer ID</th>\n",
       "      <th></th>\n",
       "      <th></th>\n",
       "      <th></th>\n",
       "      <th></th>\n",
       "    </tr>\n",
       "  </thead>\n",
       "  <tbody>\n",
       "    <tr>\n",
       "      <th>Cust_1004</th>\n",
       "      <td>289</td>\n",
       "      <td>1.000000</td>\n",
       "      <td>12.00</td>\n",
       "      <td>1.0</td>\n",
       "    </tr>\n",
       "    <tr>\n",
       "      <th>Cust_1005</th>\n",
       "      <td>103</td>\n",
       "      <td>2.400000</td>\n",
       "      <td>9628.15</td>\n",
       "      <td>5.0</td>\n",
       "    </tr>\n",
       "    <tr>\n",
       "      <th>Cust_1006</th>\n",
       "      <td>1069</td>\n",
       "      <td>0.333333</td>\n",
       "      <td>17.00</td>\n",
       "      <td>3.0</td>\n",
       "    </tr>\n",
       "    <tr>\n",
       "      <th>Cust_1007</th>\n",
       "      <td>969</td>\n",
       "      <td>0.333333</td>\n",
       "      <td>13.36</td>\n",
       "      <td>3.0</td>\n",
       "    </tr>\n",
       "    <tr>\n",
       "      <th>Cust_1008</th>\n",
       "      <td>1408</td>\n",
       "      <td>0.750000</td>\n",
       "      <td>2217.58</td>\n",
       "      <td>8.0</td>\n",
       "    </tr>\n",
       "    <tr>\n",
       "      <th>...</th>\n",
       "      <td>...</td>\n",
       "      <td>...</td>\n",
       "      <td>...</td>\n",
       "      <td>...</td>\n",
       "    </tr>\n",
       "    <tr>\n",
       "      <th>Cust_3351</th>\n",
       "      <td>2503</td>\n",
       "      <td>0.142857</td>\n",
       "      <td>150.90</td>\n",
       "      <td>7.0</td>\n",
       "    </tr>\n",
       "    <tr>\n",
       "      <th>Cust_3352</th>\n",
       "      <td>1889</td>\n",
       "      <td>0.250000</td>\n",
       "      <td>667.10</td>\n",
       "      <td>8.0</td>\n",
       "    </tr>\n",
       "    <tr>\n",
       "      <th>Cust_3353</th>\n",
       "      <td>560</td>\n",
       "      <td>0.500000</td>\n",
       "      <td>12.00</td>\n",
       "      <td>2.0</td>\n",
       "    </tr>\n",
       "    <tr>\n",
       "      <th>Cust_3354</th>\n",
       "      <td>1075</td>\n",
       "      <td>0.333333</td>\n",
       "      <td>34.00</td>\n",
       "      <td>3.0</td>\n",
       "    </tr>\n",
       "    <tr>\n",
       "      <th>Cust_3355</th>\n",
       "      <td>812</td>\n",
       "      <td>0.333333</td>\n",
       "      <td>34.93</td>\n",
       "      <td>3.0</td>\n",
       "    </tr>\n",
       "  </tbody>\n",
       "</table>\n",
       "<p>2026 rows × 4 columns</p>\n",
       "</div>"
      ],
      "text/plain": [
       "             Recency  Frequency  Monetary  AcquireTime\n",
       "Customer ID                                           \n",
       "Cust_1004        289   1.000000     12.00          1.0\n",
       "Cust_1005        103   2.400000   9628.15          5.0\n",
       "Cust_1006       1069   0.333333     17.00          3.0\n",
       "Cust_1007        969   0.333333     13.36          3.0\n",
       "Cust_1008       1408   0.750000   2217.58          8.0\n",
       "...              ...        ...       ...          ...\n",
       "Cust_3351       2503   0.142857    150.90          7.0\n",
       "Cust_3352       1889   0.250000    667.10          8.0\n",
       "Cust_3353        560   0.500000     12.00          2.0\n",
       "Cust_3354       1075   0.333333     34.00          3.0\n",
       "Cust_3355        812   0.333333     34.93          3.0\n",
       "\n",
       "[2026 rows x 4 columns]"
      ]
     },
     "execution_count": 217,
     "metadata": {},
     "output_type": "execute_result"
    }
   ],
   "source": [
    "rfm"
   ]
  },
  {
   "cell_type": "markdown",
   "metadata": {},
   "source": [
    "Segment customers based on RFM metrics"
   ]
  },
  {
   "cell_type": "code",
   "execution_count": 218,
   "metadata": {},
   "outputs": [
    {
     "data": {
      "text/plain": [
       "count    2026.000000\n",
       "mean      966.152517\n",
       "std       882.066431\n",
       "min         1.000000\n",
       "25%       269.250000\n",
       "50%       692.500000\n",
       "75%      1197.500000\n",
       "max      3648.000000\n",
       "Name: Recency, dtype: float64"
      ]
     },
     "execution_count": 218,
     "metadata": {},
     "output_type": "execute_result"
    }
   ],
   "source": [
    "rfm['Recency'].describe()"
   ]
  },
  {
   "cell_type": "code",
   "execution_count": 262,
   "metadata": {},
   "outputs": [],
   "source": [
    "rfm['Recency Cell'] = rfm['Recency'].apply(lambda x: '1' if x <= 365 else '2' if x <= 730 else '3' if x <= 1095 else '4')\n",
    "rfm['Recency Score'] = pd.qcut(rfm['Recency'], q=4, labels=False)\n",
    "# Assuming rfm is your RFM dataset\n",
    "rfm['Recency p']= rfm['Recency'].rank(pct=True) * 100"
   ]
  },
  {
   "cell_type": "code",
   "execution_count": 220,
   "metadata": {},
   "outputs": [
    {
     "data": {
      "text/plain": [
       "count    2026.000000\n",
       "mean        1.005288\n",
       "std         6.354169\n",
       "min         0.100000\n",
       "25%         0.333333\n",
       "50%         0.500000\n",
       "75%         1.000000\n",
       "max       279.000000\n",
       "Name: Frequency, dtype: float64"
      ]
     },
     "execution_count": 220,
     "metadata": {},
     "output_type": "execute_result"
    }
   ],
   "source": [
    "rfm['Frequency'].describe()"
   ]
  },
  {
   "cell_type": "code",
   "execution_count": 254,
   "metadata": {},
   "outputs": [],
   "source": [
    "rfm['Freq Cell'] = rfm['Frequency'].apply(lambda x: '1' if x <= 2 else '2' if x <= 200 else '3')\n",
    "# Assuming 'Frequency' is a pandas Series"
   ]
  },
  {
   "cell_type": "code",
   "execution_count": 261,
   "metadata": {},
   "outputs": [],
   "source": [
    "# Assuming rfm is your RFM dataset\n",
    "rfm['Freq p']= rfm['Frequency'].rank(pct=True) * 100\n"
   ]
  },
  {
   "cell_type": "code",
   "execution_count": 234,
   "metadata": {},
   "outputs": [
    {
     "data": {
      "text/plain": [
       "count    2026.000000\n",
       "mean        1.830701\n",
       "std         1.083873\n",
       "min         0.000000\n",
       "25%         1.000000\n",
       "50%         2.000000\n",
       "75%         3.000000\n",
       "max         3.000000\n",
       "Name: Freq Score, dtype: float64"
      ]
     },
     "execution_count": 234,
     "metadata": {},
     "output_type": "execute_result"
    }
   ],
   "source": [
    "rfm['Freq Score'] = 3 - pd.qcut(rfm['Frequency'], q=4, labels=False)\n",
    "rfm['Freq Score'].describe()"
   ]
  },
  {
   "cell_type": "code",
   "execution_count": 224,
   "metadata": {},
   "outputs": [
    {
     "data": {
      "text/plain": [
       "count      2026.000000\n",
       "mean       2545.800489\n",
       "std       30211.240039\n",
       "min           2.000000\n",
       "25%          21.000000\n",
       "50%          70.485000\n",
       "75%         490.350000\n",
       "max      754916.470000\n",
       "Name: Monetary, dtype: float64"
      ]
     },
     "execution_count": 224,
     "metadata": {},
     "output_type": "execute_result"
    }
   ],
   "source": [
    "rfm['Monetary'].describe()"
   ]
  },
  {
   "cell_type": "code",
   "execution_count": 260,
   "metadata": {},
   "outputs": [
    {
     "data": {
      "text/plain": [
       "count      2026.000000\n",
       "mean       2545.800489\n",
       "std       30211.240039\n",
       "min           2.000000\n",
       "25%          21.000000\n",
       "50%          70.485000\n",
       "75%         490.350000\n",
       "max      754916.470000\n",
       "Name: Monetary, dtype: float64"
      ]
     },
     "execution_count": 260,
     "metadata": {},
     "output_type": "execute_result"
    }
   ],
   "source": [
    "rfm['Monetary Cell'] = rfm['Monetary'].apply(lambda x: '1' if x <= 30 else '2' if x <= 3000 else '3')\n",
    "rfm['Monetary Score'] = 3 - pd.qcut(rfm['Monetary'], q=4, labels=False)\n",
    "# Assuming rfm is your RFM dataset\n",
    "rfm['Monetary p']= rfm['Monetary'].rank(pct=True) * 100\n",
    "rfm['Monetary'].describe()"
   ]
  },
  {
   "cell_type": "markdown",
   "metadata": {},
   "source": [
    "Segment into 6 groups"
   ]
  },
  {
   "cell_type": "code",
   "execution_count": 251,
   "metadata": {},
   "outputs": [],
   "source": [
    "rfm['RFM Score'] = rfm['Recency Score'] * 100 + rfm['Freq Score'] * 10 + rfm['Monetary Score']\n",
    "\n",
    "def rfm_group(df):\n",
    "    if df['RFM Score'] == 0:\n",
    "        return 'Core'\n",
    "    elif df['Freq Score'] == 0:\n",
    "        return 'Loyal'\n",
    "    elif df['Freq Score'] <= 1 and df['Monetary Score'] == 2:\n",
    "        return 'Promising'\n",
    "    elif df['Freq Score'] <= 1 and df['Monetary Score'] == 3:\n",
    "        return 'Promising'\n",
    "    elif df['Monetary Score'] == 0:\n",
    "        return 'Whales'\n",
    "    elif df['Recency Score'] <= 1 and df['Freq Score'] == 3:\n",
    "        return 'Rookies'\n",
    "    elif df['Recency Score'] == 3 and df['Freq Score'] == 3:\n",
    "        return 'Slipping'\n",
    "    else:\n",
    "        return 'Low Value'\n",
    "    \n",
    "rfm['RFM Group'] = rfm.apply(rfm_group, axis=1)"
   ]
  },
  {
   "cell_type": "code",
   "execution_count": 247,
   "metadata": {},
   "outputs": [
    {
     "data": {
      "text/plain": [
       "331    285\n",
       "232    188\n",
       "233    164\n",
       "13     157\n",
       "0      155\n",
       "123    132\n",
       "122    121\n",
       "12     105\n",
       "330     52\n",
       "113     50\n",
       "310     49\n",
       "320     48\n",
       "231     46\n",
       "110     42\n",
       "111     37\n",
       "100     37\n",
       "11      34\n",
       "121     32\n",
       "112     32\n",
       "300     30\n",
       "10      23\n",
       "332     23\n",
       "210     22\n",
       "200     17\n",
       "1       17\n",
       "321     14\n",
       "221     13\n",
       "222     13\n",
       "220     12\n",
       "211     12\n",
       "120      9\n",
       "101      9\n",
       "212      7\n",
       "333      6\n",
       "223      6\n",
       "2        6\n",
       "20       5\n",
       "230      4\n",
       "131      3\n",
       "21       2\n",
       "31       1\n",
       "201      1\n",
       "22       1\n",
       "30       1\n",
       "130      1\n",
       "102      1\n",
       "213      1\n",
       "Name: RFM Score, dtype: int64"
      ]
     },
     "execution_count": 247,
     "metadata": {},
     "output_type": "execute_result"
    }
   ],
   "source": [
    "rfm['RFM Score'].value_counts()"
   ]
  },
  {
   "cell_type": "code",
   "execution_count": 252,
   "metadata": {},
   "outputs": [
    {
     "data": {
      "text/plain": [
       "Low Value    815\n",
       "Promising    352\n",
       "Slipping     314\n",
       "Whales       268\n",
       "Core         155\n",
       "Loyal        118\n",
       "Rookies        4\n",
       "Name: RFM Group, dtype: int64"
      ]
     },
     "execution_count": 252,
     "metadata": {},
     "output_type": "execute_result"
    }
   ],
   "source": [
    "rfm['RFM Group'].value_counts()"
   ]
  },
  {
   "cell_type": "code",
   "execution_count": 263,
   "metadata": {},
   "outputs": [],
   "source": [
    "rfm.to_csv('./rfm.csv')\n",
    "# rfm.to_excel('./rfm.xlsx')\n"
   ]
  },
  {
   "cell_type": "markdown",
   "metadata": {},
   "source": [
    "## Other tasks"
   ]
  },
  {
   "cell_type": "markdown",
   "metadata": {},
   "source": [
    "Illustrate the relationship between the number of orders and the total revenue generated per customer."
   ]
  },
  {
   "cell_type": "code",
   "execution_count": 108,
   "metadata": {},
   "outputs": [
    {
     "data": {
      "text/plain": [
       "count     923.000000\n",
       "mean        9.253521\n",
       "std        66.064130\n",
       "min         1.000000\n",
       "25%         1.000000\n",
       "50%         2.000000\n",
       "75%         7.000000\n",
       "max      1953.000000\n",
       "dtype: float64"
      ]
     },
     "execution_count": 108,
     "metadata": {},
     "output_type": "execute_result"
    }
   ],
   "source": [
    "num_purchase_per_company = df_order.groupby('Company ID').size()\n",
    "num_purchase_per_company.describe()\n"
   ]
  },
  {
   "cell_type": "code",
   "execution_count": 110,
   "metadata": {},
   "outputs": [
    {
     "data": {
      "text/plain": [
       "count       923.000000\n",
       "mean       5479.428104\n",
       "std       43722.580037\n",
       "min           5.000000\n",
       "25%         214.125000\n",
       "50%         581.250000\n",
       "75%        1996.350000\n",
       "max      754916.470000\n",
       "Name: Total Selling Price, dtype: float64"
      ]
     },
     "execution_count": 110,
     "metadata": {},
     "output_type": "execute_result"
    }
   ],
   "source": [
    "total_revenue_per_company = df_clean_timed.groupby('Company ID')['Total Selling Price'].sum()\n",
    "total_revenue_per_company.describe()"
   ]
  },
  {
   "cell_type": "code",
   "execution_count": 112,
   "metadata": {},
   "outputs": [
    {
     "data": {
      "image/png": "[encoded data removed]",
      "text/plain": [
       "<Figure size 640x480 with 1 Axes>"
      ]
     },
     "metadata": {},
     "output_type": "display_data"
    }
   ],
   "source": [
    "import matplotlib.pyplot as plt\n",
    "import numpy as np\n",
    "\n",
    "# Assuming you have the data stored in two separate variables\n",
    "\n",
    "# Create the scatter plot\n",
    "plt.scatter(np.log(num_purchase_per_company), np.log(total_revenue_per_company))\n",
    "\n",
    "# Set the labels and title\n",
    "plt.xlabel('Number of Purchases per Company')\n",
    "plt.ylabel('Total Revenue per Company')\n",
    "plt.title('Scatter Plot: Number of Purchases vs Total Revenue per Company')\n",
    "\n",
    "# Show the plot\n",
    "plt.show()"
   ]
  }
 ],
 "metadata": {
  "kernelspec": {
   "display_name": "Python 3 (ipykernel)",
   "language": "python",
   "name": "python3"
  },
  "language_info": {
   "codemirror_mode": {
    "name": "ipython",
    "version": 3
   },
   "file_extension": ".py",
   "mimetype": "text/x-python",
   "name": "python",
   "nbconvert_exporter": "python",
   "pygments_lexer": "ipython3",
   "version": "3.7.6"
  }
 },
 "nbformat": 4,
 "nbformat_minor": 2
}
